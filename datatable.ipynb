{
 "cells": [
  {
   "cell_type": "code",
   "execution_count": 11,
   "metadata": {},
   "outputs": [],
   "source": [
    "import pandas as pd\n",
    "from selenium import webdriver\n",
    "from selenium.webdriver.edge.service import Service\n",
    "from webdriver_manager.microsoft import EdgeChromiumDriverManager\n",
    "from selenium.webdriver.support.select import Select\n",
    "from selenium.webdriver.common.by import By\n",
    "from bs4 import BeautifulSoup \n",
    "import openpyxl as OP"
   ]
  },
  {
   "cell_type": "code",
   "execution_count": 12,
   "metadata": {},
   "outputs": [],
   "source": [
    "# driver = webdriver.Edge(r\"C:\\Users\\mtl91475\\Desktop\\Coding\\pySelenium\\msedgedriver.exe\")\n",
    "driver = webdriver.Edge(service=Service(EdgeChromiumDriverManager().install()))"
   ]
  },
  {
   "cell_type": "code",
   "execution_count": 13,
   "metadata": {},
   "outputs": [],
   "source": [
    "driver.get(\"http://mtl91475:Gangkia@11@163.50.57.101/FC005/S000103.aspx\")"
   ]
  },
  {
   "cell_type": "code",
   "execution_count": 14,
   "metadata": {},
   "outputs": [],
   "source": [
    "select = Select(driver.find_element(By.ID, 'MainContent_lbPTM0014')) # Process\n",
    "select2 = Select(driver.find_element(By.ID, 'MainContent_lbPTC0006')) # Input Code\n",
    "\n",
    "select.deselect_by_value(\"All\")\n",
    "select2.deselect_by_value(\"All\")\n",
    "\n",
    "\n",
    "# select.select_by_value(\"2191\") # SMT\n",
    "select.select_by_value(\"2180\") # Outgoing Inspection\n",
    "select2.select_by_value(\"12\") # Fraction Combine\n",
    "\n",
    "driver.find_element(By.ID, 'MainContent_btnRefresh').click()\n"
   ]
  },
  {
   "cell_type": "code",
   "execution_count": 15,
   "metadata": {},
   "outputs": [],
   "source": [
    "data = driver.page_source\n",
    "# data\n"
   ]
  },
  {
   "cell_type": "code",
   "execution_count": 16,
   "metadata": {},
   "outputs": [
    {
     "data": {
      "text/html": [
       "<div>\n",
       "<style scoped>\n",
       "    .dataframe tbody tr th:only-of-type {\n",
       "        vertical-align: middle;\n",
       "    }\n",
       "\n",
       "    .dataframe tbody tr th {\n",
       "        vertical-align: top;\n",
       "    }\n",
       "\n",
       "    .dataframe thead th {\n",
       "        text-align: right;\n",
       "    }\n",
       "</style>\n",
       "<table border=\"1\" class=\"dataframe\">\n",
       "  <thead>\n",
       "    <tr style=\"text-align: right;\">\n",
       "      <th></th>\n",
       "      <th>0</th>\n",
       "      <th>1</th>\n",
       "      <th>2</th>\n",
       "      <th>3</th>\n",
       "      <th>4</th>\n",
       "      <th>5</th>\n",
       "      <th>6</th>\n",
       "      <th>7</th>\n",
       "      <th>8</th>\n",
       "      <th>9</th>\n",
       "      <th>10</th>\n",
       "      <th>11</th>\n",
       "      <th>12</th>\n",
       "      <th>13</th>\n",
       "      <th>14</th>\n",
       "      <th>15</th>\n",
       "      <th>16</th>\n",
       "      <th>17</th>\n",
       "      <th>18</th>\n",
       "      <th>19</th>\n",
       "    </tr>\n",
       "  </thead>\n",
       "  <tbody>\n",
       "    <tr>\n",
       "      <th>0</th>\n",
       "      <td>2</td>\n",
       "      <td>NaN</td>\n",
       "      <td>NaN</td>\n",
       "      <td>NaN</td>\n",
       "      <td>NaN</td>\n",
       "      <td>NaN</td>\n",
       "      <td>NaN</td>\n",
       "      <td>4502</td>\n",
       "      <td>NaN</td>\n",
       "      <td>NaN</td>\n",
       "      <td>NaN</td>\n",
       "      <td>NaN</td>\n",
       "      <td>NaN</td>\n",
       "      <td>NaN</td>\n",
       "      <td>NaN</td>\n",
       "      <td>NaN</td>\n",
       "      <td>NaN</td>\n",
       "      <td>NaN</td>\n",
       "      <td>NaN</td>\n",
       "      <td>NaN</td>\n",
       "    </tr>\n",
       "    <tr>\n",
       "      <th>1</th>\n",
       "      <td>1</td>\n",
       "      <td>23YPB0351</td>\n",
       "      <td>Outgoing Inspection</td>\n",
       "      <td>PAC11</td>\n",
       "      <td>D9</td>\n",
       "      <td>ECASD90K107M010K00+C001/K803</td>\n",
       "      <td>PC-01</td>\n",
       "      <td>2001</td>\n",
       "      <td>06-NOV-23</td>\n",
       "      <td>03-NOV-23</td>\n",
       "      <td>03-NOV-23</td>\n",
       "      <td>NaN</td>\n",
       "      <td>NaN</td>\n",
       "      <td>NaN</td>\n",
       "      <td>NaN</td>\n",
       "      <td>Fraction Combine</td>\n",
       "      <td>NaN</td>\n",
       "      <td>NaN</td>\n",
       "      <td>NaN</td>\n",
       "      <td>23YPB0351</td>\n",
       "    </tr>\n",
       "    <tr>\n",
       "      <th>2</th>\n",
       "      <td>2</td>\n",
       "      <td>23YPB0354</td>\n",
       "      <td>Outgoing Inspection</td>\n",
       "      <td>PAC05</td>\n",
       "      <td>D6</td>\n",
       "      <td>ECASD60G227M010K00+C001/K803</td>\n",
       "      <td>PC-01</td>\n",
       "      <td>2501</td>\n",
       "      <td>06-NOV-23</td>\n",
       "      <td>04-NOV-23</td>\n",
       "      <td>04-NOV-23</td>\n",
       "      <td>NaN</td>\n",
       "      <td>NaN</td>\n",
       "      <td>NaN</td>\n",
       "      <td>NaN</td>\n",
       "      <td>Fraction Combine</td>\n",
       "      <td>NaN</td>\n",
       "      <td>NaN</td>\n",
       "      <td>NaN</td>\n",
       "      <td>23YPB0354</td>\n",
       "    </tr>\n",
       "  </tbody>\n",
       "</table>\n",
       "</div>"
      ],
      "text/plain": [
       "   0          1                    2      3    4   \\\n",
       "0   2        NaN                  NaN    NaN  NaN   \n",
       "1   1  23YPB0351  Outgoing Inspection  PAC11   D9   \n",
       "2   2  23YPB0354  Outgoing Inspection  PAC05   D6   \n",
       "\n",
       "                             5      6     7          8          9          10  \\\n",
       "0                           NaN    NaN  4502        NaN        NaN        NaN   \n",
       "1  ECASD90K107M010K00+C001/K803  PC-01  2001  06-NOV-23  03-NOV-23  03-NOV-23   \n",
       "2  ECASD60G227M010K00+C001/K803  PC-01  2501  06-NOV-23  04-NOV-23  04-NOV-23   \n",
       "\n",
       "   11  12  13  14                15  16  17  18         19  \n",
       "0 NaN NaN NaN NaN               NaN NaN NaN NaN        NaN  \n",
       "1 NaN NaN NaN NaN  Fraction Combine NaN NaN NaN  23YPB0351  \n",
       "2 NaN NaN NaN NaN  Fraction Combine NaN NaN NaN  23YPB0354  "
      ]
     },
     "execution_count": 16,
     "metadata": {},
     "output_type": "execute_result"
    }
   ],
   "source": [
    "dthtml = pd.read_html(data)[3]\n",
    "df = pd.DataFrame(dthtml)\n",
    "df"
   ]
  },
  {
   "cell_type": "code",
   "execution_count": 17,
   "metadata": {},
   "outputs": [],
   "source": [
    "dff = df[1].drop(0)\n",
    "dfl = len(dff)\n",
    "dfl\n",
    "dff.to_csv(\"LotWip.csv\")"
   ]
  },
  {
   "cell_type": "code",
   "execution_count": 18,
   "metadata": {},
   "outputs": [
    {
     "name": "stdout",
     "output_type": "stream",
     "text": [
      "236PB1523\n",
      "23XPB1294\n"
     ]
    }
   ],
   "source": [
    "i=0\n",
    "while i < dfl:\n",
    "    lotno = df[1][i+1]\n",
    "    driver.get(\"http://mtl91475:Gangkia@11@163.50.57.101/FC008/FractionCombineMasterLotHist.aspx\")\n",
    "    driver.find_element(By.ID, 'MainContent_txtNewLot').send_keys(lotno)\n",
    "    driver.find_element(By.NAME, 'ctl00$MainContent$btnRefresh').click()\n",
    "    soup = BeautifulSoup(driver.page_source)\n",
    "    soup_table = soup.find_all(\"table\")\n",
    "    dttable = pd.read_html(str(soup_table))[1]\n",
    "    dtfrac = dttable[\"FRACTIONLOT\"][0]\n",
    "    print(dtfrac)\n",
    "    excel_file = (r\"F:\\MT900\\900 Public\\MT920\\002_Outgoing inspection\\For_RPA_00178\\Lotfrac.xlsx\")\n",
    "    wb = OP.load_workbook(excel_file)\n",
    "    sheet = wb.active\n",
    "    sheet.delete_cols(i+1)\n",
    "    sheet.cell(row=i+1,column=1).value = dtfrac\n",
    "    wb.save(excel_file)\n",
    "    i += 1"
   ]
  }
 ],
 "metadata": {
  "kernelspec": {
   "display_name": "Python 3.10.4 64-bit",
   "language": "python",
   "name": "python3"
  },
  "language_info": {
   "codemirror_mode": {
    "name": "ipython",
    "version": 3
   },
   "file_extension": ".py",
   "mimetype": "text/x-python",
   "name": "python",
   "nbconvert_exporter": "python",
   "pygments_lexer": "ipython3",
   "version": "3.10.4"
  },
  "orig_nbformat": 4,
  "vscode": {
   "interpreter": {
    "hash": "369f2c481f4da34e4445cda3fffd2e751bd1c4d706f27375911949ba6bb62e1c"
   }
  }
 },
 "nbformat": 4,
 "nbformat_minor": 2
}
