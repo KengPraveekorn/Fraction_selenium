{
 "cells": [
  {
   "cell_type": "code",
   "execution_count": 6,
   "metadata": {},
   "outputs": [],
   "source": [
    "import pandas as pd\n",
    "from selenium import webdriver\n",
    "from selenium.webdriver.support.select import Select\n",
    "from selenium.webdriver.common.by import By\n",
    "from bs4 import BeautifulSoup \n",
    "import openpyxl as OP"
   ]
  },
  {
   "cell_type": "code",
   "execution_count": 7,
   "metadata": {},
   "outputs": [
    {
     "name": "stderr",
     "output_type": "stream",
     "text": [
      "C:\\Users\\mtl91475\\AppData\\Local\\Temp\\ipykernel_21420\\796200451.py:1: DeprecationWarning: executable_path has been deprecated, please pass in a Service object\n",
      "  driver = webdriver.Edge(r\"C:\\Users\\mtl91475\\Desktop\\Coding\\pySelenium\\msedgedriver.exe\")\n"
     ]
    }
   ],
   "source": [
    "driver = webdriver.Edge(r\"C:\\Users\\mtl91475\\Desktop\\Coding\\pySelenium\\msedgedriver.exe\")"
   ]
  },
  {
   "cell_type": "code",
   "execution_count": 8,
   "metadata": {},
   "outputs": [],
   "source": [
    "driver.get(\"http://mtl91475:Gangkia@8@163.50.57.101/FC005/S000103.aspx\")"
   ]
  },
  {
   "cell_type": "code",
   "execution_count": 9,
   "metadata": {},
   "outputs": [],
   "source": [
    "select = Select(driver.find_element(By.ID, 'MainContent_lbPTM0014')) # Process\n",
    "select2 = Select(driver.find_element(By.ID, 'MainContent_lbPTC0006')) # Input Code\n",
    "\n",
    "select.deselect_by_value(\"All\")\n",
    "select2.deselect_by_value(\"All\")\n",
    "\n",
    "\n",
    "# select.select_by_value(\"2191\") # SMT\n",
    "select.select_by_value(\"2180\") # Outgoing Inspection\n",
    "select2.select_by_value(\"12\") # Fraction Combine\n",
    "\n",
    "driver.find_element(By.ID, 'MainContent_btnRefresh').click()\n"
   ]
  },
  {
   "cell_type": "code",
   "execution_count": 10,
   "metadata": {},
   "outputs": [],
   "source": [
    "data = driver.page_source\n",
    "# data\n"
   ]
  },
  {
   "cell_type": "code",
   "execution_count": 11,
   "metadata": {},
   "outputs": [
    {
     "data": {
      "text/html": [
       "<div>\n",
       "<style scoped>\n",
       "    .dataframe tbody tr th:only-of-type {\n",
       "        vertical-align: middle;\n",
       "    }\n",
       "\n",
       "    .dataframe tbody tr th {\n",
       "        vertical-align: top;\n",
       "    }\n",
       "\n",
       "    .dataframe thead th {\n",
       "        text-align: right;\n",
       "    }\n",
       "</style>\n",
       "<table border=\"1\" class=\"dataframe\">\n",
       "  <thead>\n",
       "    <tr style=\"text-align: right;\">\n",
       "      <th></th>\n",
       "      <th>0</th>\n",
       "      <th>1</th>\n",
       "      <th>2</th>\n",
       "      <th>3</th>\n",
       "      <th>4</th>\n",
       "      <th>5</th>\n",
       "      <th>6</th>\n",
       "      <th>7</th>\n",
       "      <th>8</th>\n",
       "      <th>9</th>\n",
       "      <th>10</th>\n",
       "      <th>11</th>\n",
       "      <th>12</th>\n",
       "      <th>13</th>\n",
       "      <th>14</th>\n",
       "      <th>15</th>\n",
       "      <th>16</th>\n",
       "      <th>17</th>\n",
       "      <th>18</th>\n",
       "      <th>19</th>\n",
       "    </tr>\n",
       "  </thead>\n",
       "  <tbody>\n",
       "    <tr>\n",
       "      <th>0</th>\n",
       "      <td>0</td>\n",
       "      <td>NaN</td>\n",
       "      <td>NaN</td>\n",
       "      <td>NaN</td>\n",
       "      <td>NaN</td>\n",
       "      <td>NaN</td>\n",
       "      <td>NaN</td>\n",
       "      <td>NaN</td>\n",
       "      <td>NaN</td>\n",
       "      <td>NaN</td>\n",
       "      <td>NaN</td>\n",
       "      <td>NaN</td>\n",
       "      <td>NaN</td>\n",
       "      <td>NaN</td>\n",
       "      <td>NaN</td>\n",
       "      <td>NaN</td>\n",
       "      <td>NaN</td>\n",
       "      <td>NaN</td>\n",
       "      <td>NaN</td>\n",
       "      <td>NaN</td>\n",
       "    </tr>\n",
       "  </tbody>\n",
       "</table>\n",
       "</div>"
      ],
      "text/plain": [
       "   0   1   2   3   4   5   6   7   8   9   10  11  12  13  14  15  16  17  18  \\\n",
       "0   0 NaN NaN NaN NaN NaN NaN NaN NaN NaN NaN NaN NaN NaN NaN NaN NaN NaN NaN   \n",
       "\n",
       "   19  \n",
       "0 NaN  "
      ]
     },
     "execution_count": 11,
     "metadata": {},
     "output_type": "execute_result"
    }
   ],
   "source": [
    "dthtml = pd.read_html(data)[3]\n",
    "df = pd.DataFrame(dthtml)\n",
    "df"
   ]
  },
  {
   "cell_type": "code",
   "execution_count": 12,
   "metadata": {},
   "outputs": [],
   "source": [
    "dff = df[1].drop(0)\n",
    "dfl = len(dff)\n",
    "dfl\n",
    "dff.to_csv(\"LotWip.csv\")"
   ]
  },
  {
   "cell_type": "code",
   "execution_count": 13,
   "metadata": {},
   "outputs": [],
   "source": [
    "i=0\n",
    "\n",
    "while i < dfl:\n",
    "    lotno = df[1][i+1]\n",
    "    driver.get(\"http://mtl91475:Gangkia@6@163.50.57.101/FC008/FractionCombineMasterLotHist.aspx\")\n",
    "    driver.find_element(By.ID, 'MainContent_txtNewLot').send_keys(lotno)\n",
    "    driver.find_element(By.NAME, 'ctl00$MainContent$btnRefresh').click()\n",
    "    soup = BeautifulSoup(driver.page_source)\n",
    "    soup_table = soup.find_all(\"table\")\n",
    "    dttable = pd.read_html(str(soup_table))[1]\n",
    "    dtfrac = dttable[\"FRACTIONLOT\"][0]\n",
    "    print(dtfrac)\n",
    "    excel_file = (r\"C:\\Users\\mtl91475\\Desktop\\test.xlsx\")\n",
    "    wb = OP.load_workbook(excel_file)\n",
    "    sheet = wb.active\n",
    "    sheet.delete_cols(i+1)\n",
    "    # for r in range(1,2):\n",
    "    #     for c in range(1,2):\n",
    "    #         sheet.cell(row=r,column=c).value = dtfrac\n",
    "    sheet.cell(row=i+1,column=1).value = dtfrac\n",
    "    wb.save(excel_file)\n",
    "    i += 1"
   ]
  },
  {
   "cell_type": "code",
   "execution_count": 14,
   "metadata": {},
   "outputs": [],
   "source": [
    "# wb = OP.load_workbook(excel_file)\n",
    "# excel_file2 = (r\"C:\\RPA\\MTL00178\\10.Input\\LotnoWIP.xlsx\")"
   ]
  }
 ],
 "metadata": {
  "kernelspec": {
   "display_name": "Python 3.10.4 64-bit",
   "language": "python",
   "name": "python3"
  },
  "language_info": {
   "codemirror_mode": {
    "name": "ipython",
    "version": 3
   },
   "file_extension": ".py",
   "mimetype": "text/x-python",
   "name": "python",
   "nbconvert_exporter": "python",
   "pygments_lexer": "ipython3",
   "version": "3.10.4"
  },
  "orig_nbformat": 4,
  "vscode": {
   "interpreter": {
    "hash": "369f2c481f4da34e4445cda3fffd2e751bd1c4d706f27375911949ba6bb62e1c"
   }
  }
 },
 "nbformat": 4,
 "nbformat_minor": 2
}
