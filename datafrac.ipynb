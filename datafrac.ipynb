{
 "cells": [
  {
   "cell_type": "code",
   "execution_count": 67,
   "metadata": {},
   "outputs": [],
   "source": [
    "import pandas as pd\n",
    "from selenium import webdriver\n",
    "from selenium.webdriver.support.select import Select\n",
    "from selenium.webdriver.common.by import By\n",
    "from bs4 import BeautifulSoup "
   ]
  },
  {
   "cell_type": "code",
   "execution_count": 68,
   "metadata": {},
   "outputs": [
    {
     "name": "stderr",
     "output_type": "stream",
     "text": [
      "C:\\Users\\mtl91475\\AppData\\Local\\Temp\\ipykernel_11304\\1776330112.py:1: DeprecationWarning: executable_path has been deprecated, please pass in a Service object\n",
      "  driver = webdriver.Chrome(r\"C:\\Users\\mtl91475\\Desktop\\Coding\\pySelenium\\chromedriver.exe\")\n"
     ]
    }
   ],
   "source": [
    "driver = webdriver.Chrome(r\"C:\\Users\\mtl91475\\Desktop\\Coding\\pySelenium\\chromedriver.exe\")"
   ]
  },
  {
   "cell_type": "code",
   "execution_count": 69,
   "metadata": {},
   "outputs": [],
   "source": [
    "driver.get(\"http://mtl91475:Gangkia@5@163.50.57.101/FC008/FractionCombineMasterLotHist.aspx\")"
   ]
  },
  {
   "cell_type": "code",
   "execution_count": 70,
   "metadata": {},
   "outputs": [],
   "source": [
    "driver.find_element(By.ID, 'MainContent_txtNewLot').send_keys(\"22XPB1024\")\n",
    "driver.find_element(By.NAME, 'ctl00$MainContent$btnRefresh').click()"
   ]
  },
  {
   "cell_type": "code",
   "execution_count": 71,
   "metadata": {},
   "outputs": [
    {
     "data": {
      "text/html": [
       "<div>\n",
       "<style scoped>\n",
       "    .dataframe tbody tr th:only-of-type {\n",
       "        vertical-align: middle;\n",
       "    }\n",
       "\n",
       "    .dataframe tbody tr th {\n",
       "        vertical-align: top;\n",
       "    }\n",
       "\n",
       "    .dataframe thead th {\n",
       "        text-align: right;\n",
       "    }\n",
       "</style>\n",
       "<table border=\"1\" class=\"dataframe\">\n",
       "  <thead>\n",
       "    <tr style=\"text-align: right;\">\n",
       "      <th></th>\n",
       "      <th>PARTNAME</th>\n",
       "      <th>WOS_NO</th>\n",
       "      <th>NEWLOT</th>\n",
       "      <th>FRACTIONLOT</th>\n",
       "      <th>INSPNO</th>\n",
       "      <th>QTY</th>\n",
       "      <th>PACKAGE</th>\n",
       "      <th>CREATEDATE</th>\n",
       "      <th>EMP_CODE</th>\n",
       "      <th>LASTUPDATE</th>\n",
       "      <th>EMPUPDATE</th>\n",
       "      <th>PRINT</th>\n",
       "      <th>COMBINEDATE</th>\n",
       "      <th>EMPCOMBINE</th>\n",
       "    </tr>\n",
       "  </thead>\n",
       "  <tbody>\n",
       "    <tr>\n",
       "      <th>0</th>\n",
       "      <td>ECASD90K107M010K00+C001/K803</td>\n",
       "      <td>F221028-0013</td>\n",
       "      <td>22XPB1024</td>\n",
       "      <td>22XPB0605</td>\n",
       "      <td>TF2O26038</td>\n",
       "      <td>202</td>\n",
       "      <td>2000</td>\n",
       "      <td>10/28/2022 8:44:23 AM</td>\n",
       "      <td>33290</td>\n",
       "      <td>10/28/2022 10:36:11 AM</td>\n",
       "      <td>33290</td>\n",
       "      <td>1</td>\n",
       "      <td>10/31/2022 1:52:04 PM</td>\n",
       "      <td>23324</td>\n",
       "    </tr>\n",
       "    <tr>\n",
       "      <th>1</th>\n",
       "      <td>ECASD90K107M010K00+C001/K803</td>\n",
       "      <td>F221028-0013</td>\n",
       "      <td>22XPB1024</td>\n",
       "      <td>22XPB0602</td>\n",
       "      <td>TF2O26041</td>\n",
       "      <td>1616</td>\n",
       "      <td>2000</td>\n",
       "      <td>10/28/2022 8:44:23 AM</td>\n",
       "      <td>33290</td>\n",
       "      <td>10/28/2022 10:36:11 AM</td>\n",
       "      <td>33290</td>\n",
       "      <td>1</td>\n",
       "      <td>10/31/2022 1:52:04 PM</td>\n",
       "      <td>23324</td>\n",
       "    </tr>\n",
       "    <tr>\n",
       "      <th>2</th>\n",
       "      <td>ECASD90K107M010K00+C001/K803</td>\n",
       "      <td>F221028-0013</td>\n",
       "      <td>22XPB1024</td>\n",
       "      <td>22XPB0606</td>\n",
       "      <td>TF2O27045</td>\n",
       "      <td>1266</td>\n",
       "      <td>2000</td>\n",
       "      <td>10/28/2022 8:44:23 AM</td>\n",
       "      <td>33290</td>\n",
       "      <td>10/28/2022 10:36:11 AM</td>\n",
       "      <td>33290</td>\n",
       "      <td>1</td>\n",
       "      <td>10/31/2022 1:52:04 PM</td>\n",
       "      <td>23324</td>\n",
       "    </tr>\n",
       "  </tbody>\n",
       "</table>\n",
       "</div>"
      ],
      "text/plain": [
       "                       PARTNAME        WOS_NO     NEWLOT FRACTIONLOT  \\\n",
       "0  ECASD90K107M010K00+C001/K803  F221028-0013  22XPB1024   22XPB0605   \n",
       "1  ECASD90K107M010K00+C001/K803  F221028-0013  22XPB1024   22XPB0602   \n",
       "2  ECASD90K107M010K00+C001/K803  F221028-0013  22XPB1024   22XPB0606   \n",
       "\n",
       "      INSPNO   QTY  PACKAGE             CREATEDATE  EMP_CODE  \\\n",
       "0  TF2O26038   202     2000  10/28/2022 8:44:23 AM     33290   \n",
       "1  TF2O26041  1616     2000  10/28/2022 8:44:23 AM     33290   \n",
       "2  TF2O27045  1266     2000  10/28/2022 8:44:23 AM     33290   \n",
       "\n",
       "               LASTUPDATE  EMPUPDATE  PRINT            COMBINEDATE  EMPCOMBINE  \n",
       "0  10/28/2022 10:36:11 AM      33290      1  10/31/2022 1:52:04 PM       23324  \n",
       "1  10/28/2022 10:36:11 AM      33290      1  10/31/2022 1:52:04 PM       23324  \n",
       "2  10/28/2022 10:36:11 AM      33290      1  10/31/2022 1:52:04 PM       23324  "
      ]
     },
     "execution_count": 71,
     "metadata": {},
     "output_type": "execute_result"
    }
   ],
   "source": [
    "soup = BeautifulSoup(driver.page_source)\n",
    "soup_table = soup.find_all(\"table\")\n",
    "tables = pd.read_html(str(soup_table))[1]\n",
    "tables"
   ]
  }
 ],
 "metadata": {
  "kernelspec": {
   "display_name": "Python 3.10.4 64-bit",
   "language": "python",
   "name": "python3"
  },
  "language_info": {
   "codemirror_mode": {
    "name": "ipython",
    "version": 3
   },
   "file_extension": ".py",
   "mimetype": "text/x-python",
   "name": "python",
   "nbconvert_exporter": "python",
   "pygments_lexer": "ipython3",
   "version": "3.10.4"
  },
  "orig_nbformat": 4,
  "vscode": {
   "interpreter": {
    "hash": "369f2c481f4da34e4445cda3fffd2e751bd1c4d706f27375911949ba6bb62e1c"
   }
  }
 },
 "nbformat": 4,
 "nbformat_minor": 2
}
